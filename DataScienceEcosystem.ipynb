{
 "cells": [
  {
   "cell_type": "markdown",
   "metadata": {},
   "source": [
    "# Data Science Tools and Ecosystem"
   ]
  },
  {
   "cell_type": "markdown",
   "metadata": {},
   "source": [
    "In this test notebook, I'm going to try to summarize the important things about Data Science Tools and Ecosystems."
   ]
  },
  {
   "cell_type": "markdown",
   "metadata": {},
   "source": [
    "**Objectives:**\n",
    "* Programming lenguages used in data science\n",
    "* List of tools in data science\n",
    "* Some Python stuff"
   ]
  },
  {
   "cell_type": "markdown",
   "metadata": {},
   "source": [
    "Some of the programming lenguages used in data science are:\n",
    "1. Python\n",
    "2. R\n",
    "3. Java\n",
    "4. Julia\n",
    "5. C++"
   ]
  },
  {
   "cell_type": "markdown",
   "metadata": {},
   "source": [
    "In other hand, some of the libraries used by data scientist are:\n",
    "* Pandas\n",
    "* Numpy\n",
    "* scikit-learn\n",
    "* plotly\n",
    "* matplotlib\n",
    "* seaborn\n",
    "* ggplot"
   ]
  },
  {
   "cell_type": "markdown",
   "metadata": {},
   "source": [
    "| DATA SCIENCE TOOLS |\n",
    "|:------------------:|\n",
    "| Hadoop |\n",
    "| Apache Spark |\n",
    "| TensorFlow |\n",
    "| Python, R, SQL |\n",
    "| Databases |\n",
    "| Data Warehouses and Lakes |\n",
    "| Jupyter Notebooks |\n",
    "| Anaconda |"
   ]
  },
  {
   "cell_type": "markdown",
   "metadata": {},
   "source": [
    "### Some examples for aritmetic expressions in Python:"
   ]
  },
  {
   "cell_type": "code",
   "execution_count": 1,
   "metadata": {},
   "outputs": [
    {
     "data": {
      "text/plain": [
       "17"
      ]
     },
     "execution_count": 1,
     "metadata": {},
     "output_type": "execute_result"
    }
   ],
   "source": [
    "# heres some basic aritmetic expressions in Python\n",
    "(3*4)+5\n"
   ]
  },
  {
   "cell_type": "code",
   "execution_count": 6,
   "metadata": {},
   "outputs": [
    {
     "data": {
      "text/plain": [
       "3.3333333333333335"
      ]
     },
     "execution_count": 6,
     "metadata": {},
     "output_type": "execute_result"
    }
   ],
   "source": [
    "# here's an function that converts minutes to hours\n",
    "def hours_converter(minutes):\n",
    "    try:\n",
    "        int(minutes)\n",
    "        return minutes / 60\n",
    "    except:\n",
    "        raise TypeError('Ingresa un dato válido.')\n",
    "    \n",
    "# we use the function with 200 minutes\n",
    "hours_converter(200)"
   ]
  },
  {
   "cell_type": "markdown",
   "metadata": {},
   "source": [
    "## Author\n",
    "César Loubet"
   ]
  }
 ],
 "metadata": {
  "kernelspec": {
   "display_name": "Python 3",
   "language": "python",
   "name": "python3"
  },
  "language_info": {
   "codemirror_mode": {
    "name": "ipython",
    "version": 3
   },
   "file_extension": ".py",
   "mimetype": "text/x-python",
   "name": "python",
   "nbconvert_exporter": "python",
   "pygments_lexer": "ipython3",
   "version": "3.13.0"
  }
 },
 "nbformat": 4,
 "nbformat_minor": 2
}
